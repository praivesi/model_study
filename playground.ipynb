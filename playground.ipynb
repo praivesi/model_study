{
 "cells": [
  {
   "cell_type": "code",
   "execution_count": 3,
   "metadata": {},
   "outputs": [
    {
     "data": {
      "text/plain": [
       "array([[1, 2],\n",
       "       [3, 4]])"
      ]
     },
     "execution_count": 3,
     "metadata": {},
     "output_type": "execute_result"
    }
   ],
   "source": [
    "import numpy as np\n",
    "\n",
    "array_2d = np.array([[1, 2],\n",
    "                    [3, 4]])\n",
    "\n",
    "array_2d"
   ]
  },
  {
   "cell_type": "code",
   "execution_count": 6,
   "metadata": {},
   "outputs": [
    {
     "name": "stdout",
     "output_type": "stream",
     "text": [
      "array_1d_ravel : [1 2 3 4]\n",
      "array_1d_reshape : [1 2 3 4]\n",
      "array_1d_flatten : [1 2 3 4]\n"
     ]
    }
   ],
   "source": [
    "# 2차원을 1차원으로 낮추면?\n",
    "array_1d_ravel = array_2d.ravel() # ravel을 이용한 방법\n",
    "print(f\"array_1d_ravel : {array_1d_ravel}\")\n",
    "\n",
    "array_1d_reshape = array_2d.reshape(-1) # reshape을 이용한 방법\n",
    "print(f\"array_1d_reshape : {array_1d_reshape}\")\n",
    "\n",
    "array_1d_flatten = array_2d.flatten() # flatten을 이용한 방법\n",
    "print(f\"array_1d_flatten : {array_1d_flatten}\")"
   ]
  },
  {
   "cell_type": "code",
   "execution_count": 12,
   "metadata": {},
   "outputs": [
    {
     "name": "stdout",
     "output_type": "stream",
     "text": [
      "array_2d : [[7 2]\n",
      " [3 4]]\n",
      "array_1d_ravel : [7 2 3 4]\n",
      "array_1d_reshape : [7 2 3 4]\n",
      "array_1d_flatten : [1 2 3 4]\n"
     ]
    }
   ],
   "source": [
    "# 여기서 array_2d의 데이터를 바꾸면?\n",
    "array_2d[0][0] = 7\n",
    "\n",
    "print(f\"array_2d : {array_2d}\")\n",
    "print(f\"array_1d_ravel : {array_1d_ravel}\")\n",
    "print(f\"array_1d_reshape : {array_1d_reshape}\")\n",
    "print(f\"array_1d_flatten : {array_1d_flatten}\")"
   ]
  },
  {
   "cell_type": "code",
   "execution_count": 11,
   "metadata": {},
   "outputs": [
    {
     "name": "stdout",
     "output_type": "stream",
     "text": [
      "array_2d.base : None\n",
      "array_1d_ravel.base : [[7 2]\n",
      " [3 4]]\n",
      "array_1d_reshape.base : [[7 2]\n",
      " [3 4]]\n",
      "array_1d_flatten.base : None\n"
     ]
    }
   ],
   "source": [
    "# base 값을 보면?\n",
    "print(f\"array_2d.base : {array_2d.base}\")\n",
    "print(f\"array_1d_ravel.base : {array_1d_ravel.base}\")\n",
    "print(f\"array_1d_reshape.base : {array_1d_reshape.base}\")\n",
    "print(f\"array_1d_flatten.base : {array_1d_flatten.base}\") # copy된 객체여서 base가 None!"
   ]
  },
  {
   "cell_type": "code",
   "execution_count": null,
   "metadata": {},
   "outputs": [],
   "source": []
  }
 ],
 "metadata": {
  "interpreter": {
   "hash": "23ee331adf06ea98f3e736413c48b43d56a7083e6acdfa5cbf92e43d8ef580c9"
  },
  "kernelspec": {
   "display_name": "Python 3.10.6 ('myenv': venv)",
   "language": "python",
   "name": "python3"
  },
  "language_info": {
   "codemirror_mode": {
    "name": "ipython",
    "version": 3
   },
   "file_extension": ".py",
   "mimetype": "text/x-python",
   "name": "python",
   "nbconvert_exporter": "python",
   "pygments_lexer": "ipython3",
   "version": "3.10.6"
  },
  "orig_nbformat": 4
 },
 "nbformat": 4,
 "nbformat_minor": 2
}
